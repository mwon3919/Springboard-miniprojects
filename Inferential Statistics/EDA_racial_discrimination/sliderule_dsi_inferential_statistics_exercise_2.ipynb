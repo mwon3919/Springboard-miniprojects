{
 "cells": [
  {
   "cell_type": "markdown",
   "metadata": {},
   "source": [
    "# Examining Racial Discrimination in the US Job Market\n",
    "\n",
    "### Background\n",
    "Racial discrimination continues to be pervasive in cultures throughout the world. Researchers examined the level of racial discrimination in the United States labor market by randomly assigning identical résumés to black-sounding or white-sounding names and observing the impact on requests for interviews from employers.\n",
    "\n",
    "### Data\n",
    "In the dataset provided, each row represents a resume. The 'race' column has two values, 'b' and 'w', indicating black-sounding and white-sounding. The column 'call' has two values, 1 and 0, indicating whether the resume received a call from employers or not.\n",
    "\n",
    "Note that the 'b' and 'w' values in race are assigned randomly to the resumes when presented to the employer."
   ]
  },
  {
   "cell_type": "markdown",
   "metadata": {},
   "source": [
    "### Exercises\n",
    "You will perform a statistical analysis to establish whether race has a significant impact on the rate of callbacks for resumes.\n",
    "\n",
    "Answer the following questions **in this notebook below and submit to your Github account**. \n",
    "\n",
    "   1. What test is appropriate for this problem? Does CLT apply?\n",
    "   2. What are the null and alternate hypotheses?\n",
    "   3. Compute margin of error, confidence interval, and p-value. Try using both the bootstrapping and the frequentist statistical approaches.\n",
    "   4. Write a story describing the statistical significance in the context or the original problem.\n",
    "   5. Does your analysis mean that race/name is the most important factor in callback success? Why or why not? If not, how would you amend your analysis?\n",
    "\n",
    "You can include written notes in notebook cells using Markdown: \n",
    "   - In the control panel at the top, choose Cell > Cell Type > Markdown\n",
    "   - Markdown syntax: http://nestacms.com/docs/creating-content/markdown-cheat-sheet\n",
    "\n",
    "#### Resources\n",
    "+ Experiment information and data source: http://www.povertyactionlab.org/evaluation/discrimination-job-market-united-states\n",
    "+ Scipy statistical methods: http://docs.scipy.org/doc/scipy/reference/stats.html \n",
    "+ Markdown syntax: http://nestacms.com/docs/creating-content/markdown-cheat-sheet\n",
    "+ Formulas for the Bernoulli distribution: https://en.wikipedia.org/wiki/Bernoulli_distribution"
   ]
  },
  {
   "cell_type": "code",
   "execution_count": 111,
   "metadata": {},
   "outputs": [],
   "source": [
    "import pandas as pd\n",
    "import numpy as np\n",
    "import matplotlib.pyplot as plt\n",
    "import seaborn as sns\n",
    "from scipy import stats"
   ]
  },
  {
   "cell_type": "code",
   "execution_count": 112,
   "metadata": {},
   "outputs": [],
   "source": [
    "data = pd.io.stata.read_stata('data/us_job_market_discrimination.dta')"
   ]
  },
  {
   "cell_type": "code",
   "execution_count": 113,
   "metadata": {},
   "outputs": [
    {
     "data": {
      "text/plain": [
       "235.0"
      ]
     },
     "execution_count": 113,
     "metadata": {},
     "output_type": "execute_result"
    }
   ],
   "source": [
    "# number of callbacks for black-sounding names\n",
    "sum(data[data.race=='w'].call)"
   ]
  },
  {
   "cell_type": "code",
   "execution_count": 4,
   "metadata": {
    "scrolled": false
   },
   "outputs": [
    {
     "data": {
      "text/html": [
       "<div>\n",
       "<style scoped>\n",
       "    .dataframe tbody tr th:only-of-type {\n",
       "        vertical-align: middle;\n",
       "    }\n",
       "\n",
       "    .dataframe tbody tr th {\n",
       "        vertical-align: top;\n",
       "    }\n",
       "\n",
       "    .dataframe thead th {\n",
       "        text-align: right;\n",
       "    }\n",
       "</style>\n",
       "<table border=\"1\" class=\"dataframe\">\n",
       "  <thead>\n",
       "    <tr style=\"text-align: right;\">\n",
       "      <th></th>\n",
       "      <th>id</th>\n",
       "      <th>ad</th>\n",
       "      <th>education</th>\n",
       "      <th>ofjobs</th>\n",
       "      <th>yearsexp</th>\n",
       "      <th>honors</th>\n",
       "      <th>volunteer</th>\n",
       "      <th>military</th>\n",
       "      <th>empholes</th>\n",
       "      <th>occupspecific</th>\n",
       "      <th>...</th>\n",
       "      <th>compreq</th>\n",
       "      <th>orgreq</th>\n",
       "      <th>manuf</th>\n",
       "      <th>transcom</th>\n",
       "      <th>bankreal</th>\n",
       "      <th>trade</th>\n",
       "      <th>busservice</th>\n",
       "      <th>othservice</th>\n",
       "      <th>missind</th>\n",
       "      <th>ownership</th>\n",
       "    </tr>\n",
       "  </thead>\n",
       "  <tbody>\n",
       "    <tr>\n",
       "      <th>0</th>\n",
       "      <td>b</td>\n",
       "      <td>1</td>\n",
       "      <td>4</td>\n",
       "      <td>2</td>\n",
       "      <td>6</td>\n",
       "      <td>0</td>\n",
       "      <td>0</td>\n",
       "      <td>0</td>\n",
       "      <td>1</td>\n",
       "      <td>17</td>\n",
       "      <td>...</td>\n",
       "      <td>1.0</td>\n",
       "      <td>0.0</td>\n",
       "      <td>1.0</td>\n",
       "      <td>0.0</td>\n",
       "      <td>0.0</td>\n",
       "      <td>0.0</td>\n",
       "      <td>0.0</td>\n",
       "      <td>0.0</td>\n",
       "      <td>0.0</td>\n",
       "      <td></td>\n",
       "    </tr>\n",
       "    <tr>\n",
       "      <th>1</th>\n",
       "      <td>b</td>\n",
       "      <td>1</td>\n",
       "      <td>3</td>\n",
       "      <td>3</td>\n",
       "      <td>6</td>\n",
       "      <td>0</td>\n",
       "      <td>1</td>\n",
       "      <td>1</td>\n",
       "      <td>0</td>\n",
       "      <td>316</td>\n",
       "      <td>...</td>\n",
       "      <td>1.0</td>\n",
       "      <td>0.0</td>\n",
       "      <td>1.0</td>\n",
       "      <td>0.0</td>\n",
       "      <td>0.0</td>\n",
       "      <td>0.0</td>\n",
       "      <td>0.0</td>\n",
       "      <td>0.0</td>\n",
       "      <td>0.0</td>\n",
       "      <td></td>\n",
       "    </tr>\n",
       "    <tr>\n",
       "      <th>2</th>\n",
       "      <td>b</td>\n",
       "      <td>1</td>\n",
       "      <td>4</td>\n",
       "      <td>1</td>\n",
       "      <td>6</td>\n",
       "      <td>0</td>\n",
       "      <td>0</td>\n",
       "      <td>0</td>\n",
       "      <td>0</td>\n",
       "      <td>19</td>\n",
       "      <td>...</td>\n",
       "      <td>1.0</td>\n",
       "      <td>0.0</td>\n",
       "      <td>1.0</td>\n",
       "      <td>0.0</td>\n",
       "      <td>0.0</td>\n",
       "      <td>0.0</td>\n",
       "      <td>0.0</td>\n",
       "      <td>0.0</td>\n",
       "      <td>0.0</td>\n",
       "      <td></td>\n",
       "    </tr>\n",
       "    <tr>\n",
       "      <th>3</th>\n",
       "      <td>b</td>\n",
       "      <td>1</td>\n",
       "      <td>3</td>\n",
       "      <td>4</td>\n",
       "      <td>6</td>\n",
       "      <td>0</td>\n",
       "      <td>1</td>\n",
       "      <td>0</td>\n",
       "      <td>1</td>\n",
       "      <td>313</td>\n",
       "      <td>...</td>\n",
       "      <td>1.0</td>\n",
       "      <td>0.0</td>\n",
       "      <td>1.0</td>\n",
       "      <td>0.0</td>\n",
       "      <td>0.0</td>\n",
       "      <td>0.0</td>\n",
       "      <td>0.0</td>\n",
       "      <td>0.0</td>\n",
       "      <td>0.0</td>\n",
       "      <td></td>\n",
       "    </tr>\n",
       "    <tr>\n",
       "      <th>4</th>\n",
       "      <td>b</td>\n",
       "      <td>1</td>\n",
       "      <td>3</td>\n",
       "      <td>3</td>\n",
       "      <td>22</td>\n",
       "      <td>0</td>\n",
       "      <td>0</td>\n",
       "      <td>0</td>\n",
       "      <td>0</td>\n",
       "      <td>313</td>\n",
       "      <td>...</td>\n",
       "      <td>1.0</td>\n",
       "      <td>1.0</td>\n",
       "      <td>0.0</td>\n",
       "      <td>0.0</td>\n",
       "      <td>0.0</td>\n",
       "      <td>0.0</td>\n",
       "      <td>0.0</td>\n",
       "      <td>1.0</td>\n",
       "      <td>0.0</td>\n",
       "      <td>Nonprofit</td>\n",
       "    </tr>\n",
       "  </tbody>\n",
       "</table>\n",
       "<p>5 rows × 65 columns</p>\n",
       "</div>"
      ],
      "text/plain": [
       "  id ad  education  ofjobs  yearsexp  honors  volunteer  military  empholes  \\\n",
       "0  b  1          4       2         6       0          0         0         1   \n",
       "1  b  1          3       3         6       0          1         1         0   \n",
       "2  b  1          4       1         6       0          0         0         0   \n",
       "3  b  1          3       4         6       0          1         0         1   \n",
       "4  b  1          3       3        22       0          0         0         0   \n",
       "\n",
       "   occupspecific    ...      compreq  orgreq  manuf  transcom  bankreal trade  \\\n",
       "0             17    ...          1.0     0.0    1.0       0.0       0.0   0.0   \n",
       "1            316    ...          1.0     0.0    1.0       0.0       0.0   0.0   \n",
       "2             19    ...          1.0     0.0    1.0       0.0       0.0   0.0   \n",
       "3            313    ...          1.0     0.0    1.0       0.0       0.0   0.0   \n",
       "4            313    ...          1.0     1.0    0.0       0.0       0.0   0.0   \n",
       "\n",
       "  busservice othservice  missind  ownership  \n",
       "0        0.0        0.0      0.0             \n",
       "1        0.0        0.0      0.0             \n",
       "2        0.0        0.0      0.0             \n",
       "3        0.0        0.0      0.0             \n",
       "4        0.0        1.0      0.0  Nonprofit  \n",
       "\n",
       "[5 rows x 65 columns]"
      ]
     },
     "execution_count": 4,
     "metadata": {},
     "output_type": "execute_result"
    }
   ],
   "source": [
    "data.head()"
   ]
  },
  {
   "cell_type": "markdown",
   "metadata": {
    "collapsed": true
   },
   "source": [
    "<div class=\"span5 alert alert-success\">\n",
    "<p>Your answers to Q1 and Q2 here</p>\n",
    "</div>"
   ]
  },
  {
   "cell_type": "markdown",
   "metadata": {},
   "source": [
    "# Q1: What test is appropriate for this problem? Does CLT apply?\n"
   ]
  },
  {
   "cell_type": "markdown",
   "metadata": {},
   "source": [
    "We are trying to determine if whether race has a significant impact on the rate of callbacks. Therefore we are testing if race and callback rate are related. \n",
    "\n",
    "The CLT says that for non-normal data, the distribution of the sample means has an approximate normal distribution. There are three conditions in order for the central limit theorem to hold true:\n",
    "\n",
    "   <li> large sample size (n>=30)\n",
    "   <li> randomly generated samples\n",
    "   <li> independent samples\n",
    "\n",
    "We can assume the data we collected are independent and was randomly selected, and the sample size is greater than 30. So the Central Limit Theorem does apply for this dataset. \n",
    "\n"
   ]
  },
  {
   "cell_type": "markdown",
   "metadata": {},
   "source": [
    "The sample size is large, therefore we will be using a 2-sample z-test. "
   ]
  },
  {
   "cell_type": "markdown",
   "metadata": {},
   "source": [
    "# Q2: What are the null and alternate hypotheses?"
   ]
  },
  {
   "cell_type": "markdown",
   "metadata": {},
   "source": [
    "**Null Hypothesis**: There is no difference between callbacks rates for white and black sounding names. $$H_0:P_1=P_2$$\n",
    "\n",
    "\n",
    "**Alternative Hypothesis**: There is a difference between callback rate for white and black sounding names. $$H_a:P_1\\neq0P_2$$\n",
    "\n",
    "We will do this test with a significance level of 5%. Which means if we are going to assume the null hypothesis is true, what is the probability of getting actual difference of our black and white callback rates given our null hypothesis is true. Given that our probability is less than our significance level than we reject our null hypothesis. "
   ]
  },
  {
   "cell_type": "code",
   "execution_count": 5,
   "metadata": {},
   "outputs": [],
   "source": [
    "w = data[data.race=='w']\n",
    "b = data[data.race=='b']"
   ]
  },
  {
   "cell_type": "code",
   "execution_count": 11,
   "metadata": {
    "scrolled": true
   },
   "outputs": [
    {
     "data": {
      "text/plain": [
       "(2435, 65)"
      ]
     },
     "execution_count": 11,
     "metadata": {},
     "output_type": "execute_result"
    }
   ],
   "source": [
    "w.shape"
   ]
  },
  {
   "cell_type": "code",
   "execution_count": 12,
   "metadata": {},
   "outputs": [
    {
     "data": {
      "text/plain": [
       "(2435, 65)"
      ]
     },
     "execution_count": 12,
     "metadata": {},
     "output_type": "execute_result"
    }
   ],
   "source": [
    "b.shape"
   ]
  },
  {
   "cell_type": "code",
   "execution_count": 8,
   "metadata": {},
   "outputs": [
    {
     "data": {
      "text/plain": [
       "0.0    2200\n",
       "1.0     235\n",
       "Name: call, dtype: int64"
      ]
     },
     "execution_count": 8,
     "metadata": {},
     "output_type": "execute_result"
    }
   ],
   "source": [
    "w.call.value_counts()"
   ]
  },
  {
   "cell_type": "code",
   "execution_count": 14,
   "metadata": {},
   "outputs": [
    {
     "data": {
      "text/plain": [
       "0.0    2278\n",
       "1.0     157\n",
       "Name: call, dtype: int64"
      ]
     },
     "execution_count": 14,
     "metadata": {},
     "output_type": "execute_result"
    }
   ],
   "source": [
    "b.call.value_counts()"
   ]
  },
  {
   "cell_type": "markdown",
   "metadata": {},
   "source": [
    "# Q3: Compute margin of error, confidence interval, and p-value. Try using both the bootstrapping and the frequentist statistical approaches."
   ]
  },
  {
   "cell_type": "code",
   "execution_count": 7,
   "metadata": {
    "collapsed": true
   },
   "outputs": [],
   "source": [
    "# Your solution to Q3 here"
   ]
  },
  {
   "cell_type": "markdown",
   "metadata": {},
   "source": [
    "## Frequentist approach"
   ]
  },
  {
   "cell_type": "markdown",
   "metadata": {},
   "source": [
    "### Confidence Interval"
   ]
  },
  {
   "cell_type": "code",
   "execution_count": 39,
   "metadata": {},
   "outputs": [
    {
     "name": "stdout",
     "output_type": "stream",
     "text": [
      "The proportion of white names that received a call back:  0.0965\n",
      "The proportion of black names that received a call back:  0.0645\n"
     ]
    }
   ],
   "source": [
    "p1 = 235/2435\n",
    "p2 = 157/2435\n",
    "\n",
    "var_p1 = ((235/2435)*(1-235/2435))/2435\n",
    "var_p2 = ((157/2435)*(1-157/2435))/2435\n",
    "\n",
    "print('The proportion of white names that received a call back: ', round(p1,4))\n",
    "print('The proportion of black names that received a call back: ', round(p2,4))\n",
    "\n"
   ]
  },
  {
   "cell_type": "markdown",
   "metadata": {},
   "source": [
    "We want to find out if sample of p1-p2 has a meaningful difference,a 95% confidence interval for the parameter sample of p1-p2. "
   ]
  },
  {
   "cell_type": "code",
   "execution_count": 43,
   "metadata": {},
   "outputs": [
    {
     "name": "stdout",
     "output_type": "stream",
     "text": [
      "The difference between the sample means are:  0.032\n"
     ]
    }
   ],
   "source": [
    "#Sampling distribution of sampling proportions\n",
    "\n",
    "p3 = p1-p2\n",
    "var_p3 = var_p1+var_p2\n",
    "std_p3 = np.sqrt(var_p3)\n",
    "\n",
    "print('The difference between the sample means are: ', round(p3,4))\n"
   ]
  },
  {
   "cell_type": "markdown",
   "metadata": {},
   "source": [
    "We are tryting to figure out if there is a meaningful difference between the proportion of white sounding names that received a callback and the proportion of black sounding names that received a callback. We sampled 2435 white sounding names and 2435 black sounding names, and we got 0.0965 for the white names and 0.0645 for the black names. Our goal is to get a 95% confidence interval. \n",
    "\n",
    "We want to be confident that 95% chance that the true mean (p1-p2) is within a distance (d) of 0.032. Similar to 95% chance that 0.032 is within the same distance of the true mean. "
   ]
  },
  {
   "cell_type": "markdown",
   "metadata": {},
   "source": [
    "We can assume everything is normal, we ask ourselves how many standard deviations do we need to be away from the mean in order to contain 95% of the probability. Using a z-table, we are looking for a z-value that contains 97.5% of our data since a z-table looks at the cumulative probability up to the z-value. If we get the z-value and apply it to both sides we will get 95%. The z-score for 97.5% of our distribution is 1.96. "
   ]
  },
  {
   "cell_type": "code",
   "execution_count": 84,
   "metadata": {},
   "outputs": [
    {
     "name": "stdout",
     "output_type": "stream",
     "text": [
      "The Margin Of Error (distance): 0.0153\n",
      "The Confidence Interval : (0.0168, 0.0473)\n"
     ]
    }
   ],
   "source": [
    "z_scr = 1.96\n",
    "d = 1.96 * std_p3\n",
    "print('The Margin Of Error (distance):', round(d,4))\n",
    "      \n",
    "conf_int = (round(p3-d,4),round(p3+d,4))\n",
    "print('The Confidence Interval :',conf_int)\n"
   ]
  },
  {
   "cell_type": "markdown",
   "metadata": {},
   "source": [
    "**There is a 95% chance that the true difference of the proportions is within 0.0153 of 0.032. \n",
    "Giving us a confidence internval of (0.0168, 0.0473). Therefore, we are 95% confidence white sounding names get more callbacks than black sounding names.**"
   ]
  },
  {
   "cell_type": "markdown",
   "metadata": {},
   "source": [
    "### Hypothesis Test"
   ]
  },
  {
   "cell_type": "markdown",
   "metadata": {},
   "source": [
    "$$H_0:P_1-P_2 = 0$$\n",
    "$$H_a:P_1-P_2 \\neq0$$"
   ]
  },
  {
   "cell_type": "markdown",
   "metadata": {},
   "source": [
    "Assume the $H_0$ is true, we will try to figure out the probability of actually getting $\\bar{p_1}-\\bar{p_2}$. \n",
    "\n",
    "Given this: $P(\\bar{p_1}-\\bar{p_2}| H_0) < .05 $ we are going to reject the null hypothesis."
   ]
  },
  {
   "cell_type": "markdown",
   "metadata": {},
   "source": [
    "If we assume the population proportions are actually the same, then the mean will be 0. Assuming that the mean of sampling distribution of this statistic is 0 what is the probability of getting the difference 0.032? \n",
    "\n",
    "What we do here is essentially find a z-score for this, how many standard deviations away from the mean 0.032 is and whether this likelihood more or less than our significance level, in this case 5%. "
   ]
  },
  {
   "cell_type": "code",
   "execution_count": 72,
   "metadata": {},
   "outputs": [
    {
     "name": "stdout",
     "output_type": "stream",
     "text": [
      "The best estimate of this consistent population porportion that is true for both white names and black names:  0.0805\n",
      "The standard deviation of our distribution given our null hypothesis is true:  0.0078\n"
     ]
    }
   ],
   "source": [
    "#since we assuming that p1 and p2 are the same value.\n",
    "#we can assume one big survey\n",
    "\n",
    "p_h = 392/4870\n",
    "print('The best estimate of this consistent population porportion that is true for both white names and black names: ', round(p_h,4))\n",
    "\n",
    "std_h = np.sqrt((2*p_h)*(1-p_h)/2435)\n",
    "print('The standard deviation of our distribution given our null hypothesis is true: ',round(std_h,4))\n",
    "\n"
   ]
  },
  {
   "cell_type": "code",
   "execution_count": 93,
   "metadata": {},
   "outputs": [
    {
     "name": "stdout",
     "output_type": "stream",
     "text": [
      "The z-score: 4.104\n",
      "The p-value: 4.0571918338242116e-05\n"
     ]
    }
   ],
   "source": [
    "z_h = (0.032-0)/std_h\n",
    "print('The z-score:', round(z_h,3))\n",
    "p_val = stats.norm.cdf(-z_h) * 2\n",
    "print('The p-value:', (p_val))"
   ]
  },
  {
   "cell_type": "markdown",
   "metadata": {},
   "source": [
    "**We want to have a significance level of 5%, two tailed test therefore we want to find a z-value that has 97.5% below it. which is a z-score of 1.96. There is a 5% chance sampling a z-statistic greater than 1.96 assuming the null hypothesis is correct. The probability of sampling a z-score of 4.104 is less than 5%, so we can reject the null hypothesis.**\n",
    "\n",
    "**Statistically speaking there is a difference between callbacks of white sounding names and black sounding names.**"
   ]
  },
  {
   "cell_type": "code",
   "execution_count": 99,
   "metadata": {
    "scrolled": false
   },
   "outputs": [
    {
     "name": "stdout",
     "output_type": "stream",
     "text": [
      "Z score: 4.108412152434346\n",
      "P value: 3.983886837585077e-05\n"
     ]
    }
   ],
   "source": [
    "n_w = len(w)\n",
    "n_b = len(b)\n",
    "\n",
    "prop_w = np.sum(w.call)/len(w)\n",
    "prop_b = np.sum(b.call)/len(b)\n",
    "\n",
    "prop_diff = prop_w - prop_b\n",
    "phat = (np.sum(w.call)+np.sum(b.call))/ (len(w)+len(b))\n",
    "\n",
    "z=prop_diff/np.sqrt(phat*(1-phat)* ((1/n_w)+(1/n_b)))\n",
    "pval = stats.norm.cdf(-z)* 2\n",
    "print('Z score: {}'.format(z))\n",
    "print('P value: {}'.format(pval))"
   ]
  },
  {
   "cell_type": "markdown",
   "metadata": {},
   "source": [
    "## Bootstrap Approach"
   ]
  },
  {
   "cell_type": "markdown",
   "metadata": {},
   "source": [
    "**Null Hypothesis**: There is no difference between callbacks rates for white and black sounding names. $$H_0:P_1=P_2$$\n",
    "\n",
    "\n",
    "**Alternative Hypothesis**: There is a difference between callback rate for white and black sounding names. $$H_a:P_1\\neq0P_2$$"
   ]
  },
  {
   "cell_type": "markdown",
   "metadata": {},
   "source": [
    "We will use permutation sampling to simulate our hypothesis. Permutation is random reordring of entries in an array. This technique at the heart of simulating two quantities we assume are identically distributed. \n",
    "\n"
   ]
  },
  {
   "cell_type": "code",
   "execution_count": 129,
   "metadata": {},
   "outputs": [],
   "source": [
    "#Generate permutation functions for random sampling\n",
    "\n",
    "def permutation_sample(data_1, data_2):\n",
    "    '''Generate a permutation sample from two data sets'''\n",
    "    \n",
    "    #concatenate two data sets\n",
    "    data = np.concatenate((data_1,data_2))\n",
    "    \n",
    "    #permute the concatenated array\n",
    "    permuted_data = np.random.permutation(data)\n",
    "    \n",
    "    #split the permuted array into two\n",
    "    perm_sample_1 = permuted_data[:len(data_1)]\n",
    "    perm_sample_2 = permuted_data[len(data_1):]\n",
    "    \n",
    "    return perm_sample_1, perm_sample_2\n",
    "\n",
    "def draw_perm_reps(data_1,data_2,func,size=1):\n",
    "    '''Generate multiple permutation replicates.'''\n",
    "    \n",
    "    #initialize array of replicates\n",
    "    perm_replicates = np.empty(size)\n",
    "    \n",
    "    for i in range(size):\n",
    "        #generate permutation sample\n",
    "        perm_sample_1, perm_sample_2 = permutation_sample(data_1,data_2)\n",
    "        \n",
    "        #compute the test statistic\n",
    "        \n",
    "        perm_replicates[i] = func(perm_sample_1,perm_sample_2)\n",
    "        \n",
    "    return perm_replicates\n",
    "\n"
   ]
  },
  {
   "cell_type": "markdown",
   "metadata": {},
   "source": [
    "What about the data are we accessing, and how to we quantify the assessment? This hinges on a test statistic. A test statistic is a single number that can be computed from observed data and from data you simulate under the null hypothesis. It serves as a basis of comparison between what the hypothesis predicts and what we actually observed. \n",
    "\n",
    "Our test statistic for our test is are callback rates different. We assume they have no difference therefore we would choose the difference in means as our test statistic, with our test based on the null hypothesis that our difference is 0. "
   ]
  },
  {
   "cell_type": "code",
   "execution_count": 132,
   "metadata": {},
   "outputs": [
    {
     "name": "stdout",
     "output_type": "stream",
     "text": [
      "The difference between callback rate: 0.03203285485506058\n"
     ]
    }
   ],
   "source": [
    "#test statistic\n",
    "\n",
    "def diff_of_means(data_1,data_2):\n",
    "    '''difference in means of two arrays.'''\n",
    "    \n",
    "    #the difference of means of data_1, data_2\n",
    "    diff = np.mean(data_1) - np.mean(data_2)\n",
    "    \n",
    "    return diff\n",
    "\n",
    "\n",
    "empirical_diff_means = diff_of_means(w.call,b.call)\n",
    "print('The difference between callback rate:', diff_mean)"
   ]
  },
  {
   "cell_type": "markdown",
   "metadata": {},
   "source": [
    "We will redo the simulation under the null hypothesis 10,000 times, by generating lots of permutation replicates. Permutation replicates are test statistics computed from a permutation sample. "
   ]
  },
  {
   "cell_type": "code",
   "execution_count": 137,
   "metadata": {},
   "outputs": [
    {
     "name": "stdout",
     "output_type": "stream",
     "text": [
      "P-value of permutation replicates:  2e-05\n"
     ]
    }
   ],
   "source": [
    "#draw 10,000 permutation replicates\n",
    "perm_replicates = draw_perm_reps(w.call,b.call,diff_of_means,100000)\n",
    "\n",
    "#compute p-value\n",
    "p_value_perm = np.sum(perm_replicates > empirical_diff_means)/  len(perm_replicates)\n",
    "\n",
    "print('P-value of permutation replicates: ', p_value_perm)\n",
    "\n"
   ]
  },
  {
   "cell_type": "markdown",
   "metadata": {},
   "source": [
    "**The p-value is pratically 0, so we reject the null hypothesis that white and black sounding names have the same call back rate.**"
   ]
  },
  {
   "cell_type": "markdown",
   "metadata": {},
   "source": [
    "<div class=\"span5 alert alert-success\">\n",
    "<p> Your answers to Q4 and Q5 here </p>\n",
    "</div>"
   ]
  },
  {
   "cell_type": "markdown",
   "metadata": {
    "collapsed": true
   },
   "source": [
    "# Q5: Write a story describing the statistical significance in the context or the original problem.\n"
   ]
  },
  {
   "cell_type": "markdown",
   "metadata": {},
   "source": [
    "Racial discrimination continues to be pervasive in cultures throughout the world. Researchers examined the level of racial discrimination in the United States labor market by randomly assigning identical résumés to black-sounding or white-sounding names and observing the impact on requests for interviews from employers.\n",
    "\n",
    "Based off these samples we can confidently say, statistically there is a biased between callback rates of white sounding names and black sounding names. \n",
    "\n",
    "**White sounding names have 9.6% callback rate**, while **black sounding names have a 6.4% callback rate**. \n",
    "\n",
    "We tested if these percentages could have been from random chance, we did a frequentist z-test to confirm the true proportion of the population between callbacks were indeed different. With a **95% confidence that race has a statistical significant effect on callbacks.**\n",
    "\n",
    "\n"
   ]
  },
  {
   "cell_type": "markdown",
   "metadata": {},
   "source": [
    "# Q6: Does your analysis mean that race/name is the most important factor in callback success? Why or why not? If not, how would you amend your analysis?"
   ]
  },
  {
   "cell_type": "markdown",
   "metadata": {},
   "source": [
    "Not necessarily, There are other variables to consider. We can not base a conclusion from a statistical test taken from one sample. It may play a factor, and statistically speaking it does. However, we cannot say it is the most important factor without researching, and analyzing other variables between individual. \n"
   ]
  },
  {
   "cell_type": "code",
   "execution_count": null,
   "metadata": {},
   "outputs": [],
   "source": []
  },
  {
   "cell_type": "code",
   "execution_count": null,
   "metadata": {},
   "outputs": [],
   "source": []
  },
  {
   "cell_type": "code",
   "execution_count": null,
   "metadata": {},
   "outputs": [],
   "source": []
  },
  {
   "cell_type": "code",
   "execution_count": null,
   "metadata": {},
   "outputs": [],
   "source": []
  },
  {
   "cell_type": "code",
   "execution_count": null,
   "metadata": {},
   "outputs": [],
   "source": []
  }
 ],
 "metadata": {
  "kernelspec": {
   "display_name": "Python 3",
   "language": "python",
   "name": "python3"
  },
  "language_info": {
   "codemirror_mode": {
    "name": "ipython",
    "version": 3
   },
   "file_extension": ".py",
   "mimetype": "text/x-python",
   "name": "python",
   "nbconvert_exporter": "python",
   "pygments_lexer": "ipython3",
   "version": "3.7.0"
  }
 },
 "nbformat": 4,
 "nbformat_minor": 1
}
