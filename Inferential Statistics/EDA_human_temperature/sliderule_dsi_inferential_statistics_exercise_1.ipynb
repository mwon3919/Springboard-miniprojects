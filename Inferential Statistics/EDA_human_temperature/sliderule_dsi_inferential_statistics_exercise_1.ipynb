{
 "cells": [
  {
   "cell_type": "markdown",
   "metadata": {},
   "source": [
    "# What is the True Normal Human Body Temperature? \n",
    "\n",
    "#### Background\n",
    "\n",
    "The mean normal body temperature was held to be 37$^{\\circ}$C or 98.6$^{\\circ}$F for more than 120 years since it was first conceptualized and reported by Carl Wunderlich in a famous 1868 book. But, is this value statistically correct?"
   ]
  },
  {
   "cell_type": "markdown",
   "metadata": {},
   "source": [
    "<h3>Exercises</h3>\n",
    "\n",
    "<p>In this exercise, you will analyze a dataset of human body temperatures and employ the concepts of hypothesis testing, confidence intervals, and statistical significance.</p>\n",
    "\n",
    "<p>Answer the following questions <b>in this notebook below and submit to your Github account</b>.</p> \n",
    "\n",
    "<ol>\n",
    "<li>  Is the distribution of body temperatures normal? \n",
    "    <ul>\n",
    "    <li> Although this is not a requirement for the Central Limit Theorem to hold (read the introduction on Wikipedia's page about the CLT carefully: https://en.wikipedia.org/wiki/Central_limit_theorem), it gives us some peace of mind that the population may also be normally distributed if we assume that this sample is representative of the population.\n",
    "    <li> Think about the way you're going to check for the normality of the distribution. Graphical methods are usually used first, but there are also other ways: https://en.wikipedia.org/wiki/Normality_test\n",
    "    </ul>\n",
    "<li>  Is the sample size large? Are the observations independent?\n",
    "    <ul>\n",
    "    <li> Remember that this is a condition for the Central Limit Theorem, and hence the statistical tests we are using, to apply.\n",
    "    </ul>\n",
    "<li>  Is the true population mean really 98.6 degrees F?\n",
    "    <ul>\n",
    "    <li> First, try a bootstrap hypothesis test.\n",
    "    <li> Now, let's try frequentist statistical testing. Would you use a one-sample or two-sample test? Why?\n",
    "    <li> In this situation, is it appropriate to use the $t$ or $z$ statistic? \n",
    "    <li> Now try using the other test. How is the result be different? Why?\n",
    "    </ul>\n",
    "<li>  Draw a small sample of size 10 from the data and repeat both frequentist tests. \n",
    "    <ul>\n",
    "    <li> Which one is the correct one to use? \n",
    "    <li> What do you notice? What does this tell you about the difference in application of the $t$ and $z$ statistic?\n",
    "    </ul>\n",
    "<li>  At what temperature should we consider someone's temperature to be \"abnormal\"?\n",
    "    <ul>\n",
    "    <li> As in the previous example, try calculating everything using the boostrap approach, as well as the frequentist approach.\n",
    "    <li> Start by computing the margin of error and confidence interval. When calculating the confidence interval, keep in mind that you should use the appropriate formula for one draw, and not N draws.\n",
    "    </ul>\n",
    "<li>  Is there a significant difference between males and females in normal temperature?\n",
    "    <ul>\n",
    "    <li> What testing approach did you use and why?\n",
    "    <li> Write a story with your conclusion in the context of the original problem.\n",
    "    </ul>\n",
    "</ol>\n",
    "\n",
    "You can include written notes in notebook cells using Markdown: \n",
    "   - In the control panel at the top, choose Cell > Cell Type > Markdown\n",
    "   - Markdown syntax: http://nestacms.com/docs/creating-content/markdown-cheat-sheet\n",
    "\n",
    "#### Resources\n",
    "\n",
    "+ Information and data sources: http://www.amstat.org/publications/jse/datasets/normtemp.txt, http://www.amstat.org/publications/jse/jse_data_archive.htm\n",
    "+ Markdown syntax: http://nestacms.com/docs/creating-content/markdown-cheat-sheet\n",
    "\n",
    "****"
   ]
  },
  {
   "cell_type": "code",
   "execution_count": 151,
   "metadata": {},
   "outputs": [],
   "source": [
    "import pandas as pd\n",
    "import numpy as np\n",
    "import seaborn as sns\n",
    "import matplotlib.pyplot as plt\n",
    "from scipy import stats\n",
    "%matplotlib inline\n",
    "\n",
    "\n",
    "df = pd.read_csv('data/human_body_temperature.csv')"
   ]
  },
  {
   "cell_type": "code",
   "execution_count": 152,
   "metadata": {},
   "outputs": [],
   "source": [
    "# Your work here."
   ]
  },
  {
   "cell_type": "code",
   "execution_count": 153,
   "metadata": {},
   "outputs": [
    {
     "data": {
      "text/html": [
       "<div>\n",
       "<style scoped>\n",
       "    .dataframe tbody tr th:only-of-type {\n",
       "        vertical-align: middle;\n",
       "    }\n",
       "\n",
       "    .dataframe tbody tr th {\n",
       "        vertical-align: top;\n",
       "    }\n",
       "\n",
       "    .dataframe thead th {\n",
       "        text-align: right;\n",
       "    }\n",
       "</style>\n",
       "<table border=\"1\" class=\"dataframe\">\n",
       "  <thead>\n",
       "    <tr style=\"text-align: right;\">\n",
       "      <th></th>\n",
       "      <th>temperature</th>\n",
       "      <th>gender</th>\n",
       "      <th>heart_rate</th>\n",
       "    </tr>\n",
       "  </thead>\n",
       "  <tbody>\n",
       "    <tr>\n",
       "      <th>0</th>\n",
       "      <td>99.3</td>\n",
       "      <td>F</td>\n",
       "      <td>68.0</td>\n",
       "    </tr>\n",
       "    <tr>\n",
       "      <th>1</th>\n",
       "      <td>98.4</td>\n",
       "      <td>F</td>\n",
       "      <td>81.0</td>\n",
       "    </tr>\n",
       "    <tr>\n",
       "      <th>2</th>\n",
       "      <td>97.8</td>\n",
       "      <td>M</td>\n",
       "      <td>73.0</td>\n",
       "    </tr>\n",
       "    <tr>\n",
       "      <th>3</th>\n",
       "      <td>99.2</td>\n",
       "      <td>F</td>\n",
       "      <td>66.0</td>\n",
       "    </tr>\n",
       "    <tr>\n",
       "      <th>4</th>\n",
       "      <td>98.0</td>\n",
       "      <td>F</td>\n",
       "      <td>73.0</td>\n",
       "    </tr>\n",
       "  </tbody>\n",
       "</table>\n",
       "</div>"
      ],
      "text/plain": [
       "   temperature gender  heart_rate\n",
       "0         99.3      F        68.0\n",
       "1         98.4      F        81.0\n",
       "2         97.8      M        73.0\n",
       "3         99.2      F        66.0\n",
       "4         98.0      F        73.0"
      ]
     },
     "execution_count": 153,
     "metadata": {},
     "output_type": "execute_result"
    }
   ],
   "source": [
    "df.head()"
   ]
  },
  {
   "cell_type": "code",
   "execution_count": 154,
   "metadata": {
    "scrolled": false
   },
   "outputs": [
    {
     "name": "stdout",
     "output_type": "stream",
     "text": [
      "<class 'pandas.core.frame.DataFrame'>\n",
      "RangeIndex: 130 entries, 0 to 129\n",
      "Data columns (total 3 columns):\n",
      "temperature    130 non-null float64\n",
      "gender         130 non-null object\n",
      "heart_rate     130 non-null float64\n",
      "dtypes: float64(2), object(1)\n",
      "memory usage: 3.1+ KB\n"
     ]
    }
   ],
   "source": [
    "df.info()"
   ]
  },
  {
   "cell_type": "markdown",
   "metadata": {},
   "source": [
    "# Q1: Is the distribution of body temperature normally distributed?"
   ]
  },
  {
   "cell_type": "code",
   "execution_count": 155,
   "metadata": {
    "scrolled": true
   },
   "outputs": [
    {
     "data": {
      "text/plain": [
       "(array([ 4.,  6., 15., 26., 30., 30., 15.,  1.,  2.,  1.]),\n",
       " array([ 96.3 ,  96.75,  97.2 ,  97.65,  98.1 ,  98.55,  99.  ,  99.45,\n",
       "         99.9 , 100.35, 100.8 ]),\n",
       " <a list of 10 Patch objects>)"
      ]
     },
     "execution_count": 155,
     "metadata": {},
     "output_type": "execute_result"
    },
    {
     "data": {
      "image/png": "[encoded data removed]",
      "text/plain": [
       "<Figure size 432x288 with 1 Axes>"
      ]
     },
     "metadata": {
      "needs_background": "light"
     },
     "output_type": "display_data"
    }
   ],
   "source": [
    "plt.hist(df['temperature'])"
   ]
  },
  {
   "cell_type": "code",
   "execution_count": 156,
   "metadata": {},
   "outputs": [
    {
     "name": "stdout",
     "output_type": "stream",
     "text": [
      "Sample mean: 98.25 Fahrenheit.\n",
      "Sample Standard Deviation 0.73 Fahrenheit\n"
     ]
    }
   ],
   "source": [
    "temp_mean = np.mean(df.temperature)\n",
    "print('Sample mean: ' +str(np.round(temp_mean,2))+' Fahrenheit.')\n",
    "temp_std = np.std(df.temperature)\n",
    "print('Sample Standard Deviation ' +str(np.round(temp_std,2))+ ' Fahrenheit')\n"
   ]
  },
  {
   "cell_type": "code",
   "execution_count": 160,
   "metadata": {},
   "outputs": [
    {
     "name": "stderr",
     "output_type": "stream",
     "text": [
      "/Users/matthewwong/anaconda3/lib/python3.7/site-packages/matplotlib/axes/_axes.py:6571: UserWarning: The 'normed' kwarg is deprecated, and has been replaced by the 'density' kwarg.\n",
      "  warnings.warn(\"The 'normed' kwarg is deprecated, and has been \"\n"
     ]
    },
    {
     "data": {
      "image/png": "[encoded data removed]",
      "text/plain": [
       "<Figure size 432x288 with 1 Axes>"
      ]
     },
     "metadata": {
      "needs_background": "light"
     },
     "output_type": "display_data"
    }
   ],
   "source": [
    "x = np.linspace(temp_mean-4*temp_std,temp_mean+4*temp_std,5000)\n",
    "y = stats.norm.pdf(x,temp_mean, temp_std)\n",
    "plt.hist(df.temperature, normed=True,bins=20)\n",
    "plt.plot(x,y)\n",
    "plt.xlabel('Temperature (F)')\n",
    "plt.ylabel('Frequency')\n",
    "plt.show()"
   ]
  },
  {
   "cell_type": "markdown",
   "metadata": {},
   "source": [
    "The plot of the temperatures looks to be normally distributed. However, comparing the histogram to the PDF suffers from binning bias, so it is better to compare the ECDF of the data to the theoretical CDF of the normal distribution. "
   ]
  },
  {
   "cell_type": "markdown",
   "metadata": {},
   "source": [
    "Probability Density Function (PDF)\n",
    "    - Continuous analog to the PMF (probability mass function)\n",
    "    - Mathematical description of the relative likelihood of observing a value of a continous variable. \n",
    "    - areas under the PDF gives probabilities\n",
    "    - the CDF (cumulative distribution function), of the normal distribution gives the probability of x will be less than the value of x-axis \n"
   ]
  },
  {
   "cell_type": "markdown",
   "metadata": {},
   "source": [
    "Normal Distribution\n",
    "    - describes a continuous variable whose PDF(probability density function) is symmetric and has a single symmetric peak\n",
    "    - parameterized by mean (determines the peak) and standard deviation (how wide the peak is, how spread out the data are)\n",
    " "
   ]
  },
  {
   "cell_type": "code",
   "execution_count": 40,
   "metadata": {},
   "outputs": [],
   "source": [
    "#function to create an ecdf for a dataset \n",
    "def ecdf(data):\n",
    "    '''Takes in a data set and creates a ecdf for that set '''\n",
    "    n= len(data)\n",
    "    x= np.sort(data)\n",
    "    y= np.arange(1,n+1)/n\n",
    "    return x,y\n",
    "    "
   ]
  },
  {
   "cell_type": "markdown",
   "metadata": {},
   "source": [
    "To compute the theoretical CDF, we can use np.random.normal to draw samples and then we compute the CDF.\n",
    "\n",
    "We need to provide parameters (mean and standard deviation), to parametrize the normal distribution we are sampling out of. The mean and standard deviations computed from the data (temperature) are good estimates."
   ]
  },
  {
   "cell_type": "code",
   "execution_count": 31,
   "metadata": {},
   "outputs": [],
   "source": [
    "mean = np.mean(df['temperature']) #parameter 1 of the normal distribution\n",
    "std = np.std(df['temperature'])   #parameter 2 of the normal distribution\n",
    "samples = np.random.normal(mean,std,size=10000) #compute samples\n",
    "x_theor, y_theor = ecdf(samples)   #compute ecdf of thoertical samples\n",
    "x,y =  ecdf(df['temperature'])     #compute ecdf of actual data"
   ]
  },
  {
   "cell_type": "code",
   "execution_count": 39,
   "metadata": {
    "scrolled": false
   },
   "outputs": [
    {
     "data": {
      "image/png": "[encoded data removed]",
      "text/plain": [
       "<Figure size 432x288 with 1 Axes>"
      ]
     },
     "metadata": {},
     "output_type": "display_data"
    }
   ],
   "source": [
    "sns.set()\n",
    "plt.plot(x_theor,y_theor)\n",
    "plt.plot(x,y,marker='.',linestyle='none',color = 'green')\n",
    "plt.xlabel('Temperature')\n",
    "plt.ylabel('CDF')\n",
    "plt.show()"
   ]
  },
  {
   "cell_type": "markdown",
   "metadata": {},
   "source": [
    "#### With the absence of binning bias, we can say the Temperature data are approximately normally distributed. "
   ]
  },
  {
   "cell_type": "markdown",
   "metadata": {},
   "source": [
    "lets draw 100,000 samples using the mean and standard deviation of our data as the parameters. "
   ]
  },
  {
   "cell_type": "code",
   "execution_count": 44,
   "metadata": {},
   "outputs": [
    {
     "name": "stderr",
     "output_type": "stream",
     "text": [
      "/Users/matthewwong/anaconda3/lib/python3.7/site-packages/matplotlib/axes/_axes.py:6571: UserWarning: The 'normed' kwarg is deprecated, and has been replaced by the 'density' kwarg.\n",
      "  warnings.warn(\"The 'normed' kwarg is deprecated, and has been \"\n"
     ]
    },
    {
     "data": {
      "image/png": "[encoded data removed]",
      "text/plain": [
       "<Figure size 432x288 with 1 Axes>"
      ]
     },
     "metadata": {},
     "output_type": "display_data"
    }
   ],
   "source": [
    "samples_temp = np.random.normal(mean,std,size=100000) \n",
    "plt.hist(samples_temp,bins=100,normed=True,histtype='step')\n",
    "plt.show()"
   ]
  },
  {
   "cell_type": "code",
   "execution_count": 356,
   "metadata": {},
   "outputs": [
    {
     "name": "stderr",
     "output_type": "stream",
     "text": [
      "/Users/matthewwong/anaconda3/lib/python3.7/site-packages/scipy/stats/stats.py:1713: FutureWarning: Using a non-tuple sequence for multidimensional indexing is deprecated; use `arr[tuple(seq)]` instead of `arr[seq]`. In the future this will be interpreted as an array index, `arr[np.array(seq)]`, which will result either in an error or a different result.\n",
      "  return np.add.reduce(sorted[indexer] * weights, axis=axis) / sumval\n"
     ]
    },
    {
     "data": {
      "text/plain": [
       "<matplotlib.axes._subplots.AxesSubplot at 0x1a2527f908>"
      ]
     },
     "execution_count": 356,
     "metadata": {},
     "output_type": "execute_result"
    },
    {
     "data": {
      "image/png": "[encoded data removed]",
      "text/plain": [
       "<Figure size 432x288 with 1 Axes>"
      ]
     },
     "metadata": {
      "needs_background": "light"
     },
     "output_type": "display_data"
    }
   ],
   "source": [
    "sns.distplot(df['temperature'],bins=20)"
   ]
  },
  {
   "cell_type": "markdown",
   "metadata": {},
   "source": [
    "# Q2: Is the sample size large? Are the observations independent?"
   ]
  },
  {
   "cell_type": "markdown",
   "metadata": {},
   "source": [
    "Central Limit Theorem\n",
    "    - start with any distribution with a well-defined mean and variance (also means it has a well-defined standard deviation)\n",
    "    - continuous or discrete\n",
    "    - taking samples of the distribution parameter (mean) the mean distribution will eventually become normally distributed. \n",
    "    - as sample size becomes larger -> it becomes a perfect normal distribution"
   ]
  },
  {
   "cell_type": "code",
   "execution_count": 48,
   "metadata": {},
   "outputs": [
    {
     "data": {
      "text/plain": [
       "130"
      ]
     },
     "execution_count": 48,
     "metadata": {},
     "output_type": "execute_result"
    }
   ],
   "source": [
    "df['temperature'].count()"
   ]
  },
  {
   "cell_type": "markdown",
   "metadata": {},
   "source": [
    "This sample is relatively large. For the central limit theorem a sample of n>30 is considered large. "
   ]
  },
  {
   "cell_type": "code",
   "execution_count": 50,
   "metadata": {},
   "outputs": [
    {
     "data": {
      "text/html": [
       "<div>\n",
       "<style scoped>\n",
       "    .dataframe tbody tr th:only-of-type {\n",
       "        vertical-align: middle;\n",
       "    }\n",
       "\n",
       "    .dataframe tbody tr th {\n",
       "        vertical-align: top;\n",
       "    }\n",
       "\n",
       "    .dataframe thead th {\n",
       "        text-align: right;\n",
       "    }\n",
       "</style>\n",
       "<table border=\"1\" class=\"dataframe\">\n",
       "  <thead>\n",
       "    <tr style=\"text-align: right;\">\n",
       "      <th></th>\n",
       "      <th>temperature</th>\n",
       "      <th>heart_rate</th>\n",
       "    </tr>\n",
       "  </thead>\n",
       "  <tbody>\n",
       "    <tr>\n",
       "      <th>count</th>\n",
       "      <td>130.000000</td>\n",
       "      <td>130.000000</td>\n",
       "    </tr>\n",
       "    <tr>\n",
       "      <th>mean</th>\n",
       "      <td>98.249231</td>\n",
       "      <td>73.761538</td>\n",
       "    </tr>\n",
       "    <tr>\n",
       "      <th>std</th>\n",
       "      <td>0.733183</td>\n",
       "      <td>7.062077</td>\n",
       "    </tr>\n",
       "    <tr>\n",
       "      <th>min</th>\n",
       "      <td>96.300000</td>\n",
       "      <td>57.000000</td>\n",
       "    </tr>\n",
       "    <tr>\n",
       "      <th>25%</th>\n",
       "      <td>97.800000</td>\n",
       "      <td>69.000000</td>\n",
       "    </tr>\n",
       "    <tr>\n",
       "      <th>50%</th>\n",
       "      <td>98.300000</td>\n",
       "      <td>74.000000</td>\n",
       "    </tr>\n",
       "    <tr>\n",
       "      <th>75%</th>\n",
       "      <td>98.700000</td>\n",
       "      <td>79.000000</td>\n",
       "    </tr>\n",
       "    <tr>\n",
       "      <th>max</th>\n",
       "      <td>100.800000</td>\n",
       "      <td>89.000000</td>\n",
       "    </tr>\n",
       "  </tbody>\n",
       "</table>\n",
       "</div>"
      ],
      "text/plain": [
       "       temperature  heart_rate\n",
       "count   130.000000  130.000000\n",
       "mean     98.249231   73.761538\n",
       "std       0.733183    7.062077\n",
       "min      96.300000   57.000000\n",
       "25%      97.800000   69.000000\n",
       "50%      98.300000   74.000000\n",
       "75%      98.700000   79.000000\n",
       "max     100.800000   89.000000"
      ]
     },
     "execution_count": 50,
     "metadata": {},
     "output_type": "execute_result"
    }
   ],
   "source": [
    "df.describe()"
   ]
  },
  {
   "cell_type": "code",
   "execution_count": 51,
   "metadata": {},
   "outputs": [
    {
     "data": {
      "text/plain": [
       "F    65\n",
       "M    65\n",
       "Name: gender, dtype: int64"
      ]
     },
     "execution_count": 51,
     "metadata": {},
     "output_type": "execute_result"
    }
   ],
   "source": [
    "df.gender.value_counts()"
   ]
  },
  {
   "cell_type": "markdown",
   "metadata": {},
   "source": [
    "There are 130 observations, which is a relatively large size in sampling. We do not know how the data is gather but it is reasonable to assume they are independent observations. Measuring one person's temperature should not depend on another person's temperature. 130 is also below 10% of the human population so we can assume independence. "
   ]
  },
  {
   "cell_type": "markdown",
   "metadata": {},
   "source": [
    "# Q3: Is the true population mean really 98.6 degrees F?"
   ]
  },
  {
   "cell_type": "markdown",
   "metadata": {},
   "source": [
    "We would choose to do a one sample test, since we are comparing one set of data to a single number."
   ]
  },
  {
   "cell_type": "markdown",
   "metadata": {},
   "source": [
    "### Null Hypothesis\n",
    "We want to know if the true population mean is really 98.6. Therefore our Null Hypthesis would be:\n",
    "#### Null Hypothesis : The mean of temperature is 98.6°F\n",
    "#### Alternative Hypothesis : The mean of temperature is not 98.6°F"
   ]
  },
  {
   "cell_type": "markdown",
   "metadata": {},
   "source": [
    "We then use a function (draw_bs_reps) to generate the bootstrap replicates, which is the value of the test statistic computed from a bootstrap sample. "
   ]
  },
  {
   "cell_type": "code",
   "execution_count": 214,
   "metadata": {},
   "outputs": [],
   "source": [
    "#Functions for generating boostrap sample and many bootstrap replicates\n",
    "def bs_replicate_1d(data, func):\n",
    "    '''Bootstraps the data and passes it to the desired function'''\n",
    "    return func(np.random.choice(data,size=len(data)))\n",
    "\n",
    "def draw_bs_reps(data, func,size=1):\n",
    "    '''Draw bootstrap replicates.'''\n",
    "    #initialize array of replicates: bs_replicates\n",
    "    bs_replicates = np.empty(size)\n",
    "    \n",
    "    #generate replicates\n",
    "    for i in range(size):\n",
    "        bs_replicates[i] = bs_replicate_1d(data,func)\n",
    "    return bs_replicates\n"
   ]
  },
  {
   "cell_type": "code",
   "execution_count": 217,
   "metadata": {},
   "outputs": [
    {
     "name": "stdout",
     "output_type": "stream",
     "text": [
      "The mean temp of the dataset: 98.24923076923078\n",
      "The test mean of the dataset: 98.6\n",
      "observed difference:  -0.35076923076921673\n",
      "p =  0.0\n"
     ]
    }
   ],
   "source": [
    "test_mean = 98.6\n",
    "temp_mean = np.mean(df.temperature)\n",
    "print('The mean temp of the dataset:', temp_mean)\n",
    "print('The test mean of the dataset:', test_mean)\n",
    "\n",
    "def diff_from_mean(data, test_mean=98.6):\n",
    "    ''' returns the difference between the data\"s mean and some value'''\n",
    "    return np.mean(data) - test_mean\n",
    "\n",
    "diff_obs = diff_from_mean(df.temperature)\n",
    "print('observed difference: ', diff_obs)\n",
    "\n",
    "#shift the data\n",
    "temp_shift = (df['temperature'] - temp_mean) + test_mean\n",
    "bs_reps = draw_bs_reps(temp_shift, diff_from_mean, 100000)\n",
    "p_value = np.sum(bs_reps <= diff_obs)/ len(bs_reps)\n",
    "print('p = ', p)"
   ]
  },
  {
   "cell_type": "code",
   "execution_count": 226,
   "metadata": {},
   "outputs": [
    {
     "name": "stdout",
     "output_type": "stream",
     "text": [
      "The mean of the replicates:  98.25\n",
      "The 95% CI:  [98.12307692 98.37538462]\n",
      "The 99% CI:  [98.08845769 98.41923462]\n"
     ]
    }
   ],
   "source": [
    "bs_replicates = draw_bs_reps(df.temperature, np.mean,10000)\n",
    "bs_mean = np.mean(bs_replicates)\n",
    "print('The mean of the replicates: ', round(bs_mean,2))\n",
    "\n",
    "conf_int_95 = np.percentile(bs_replicates, [2.5,97.5])\n",
    "conf_int_99 = np.percentile(bs_replicates, [0.5,99.5])\n",
    "print('The 95% CI: ', conf_int_95)\n",
    "print('The 99% CI: ', conf_int_99)"
   ]
  },
  {
   "cell_type": "markdown",
   "metadata": {},
   "source": [
    "**We reject the null hypothesis that the true mean body temperature is 98.6. The mean of the replicates is about 98.25, and the confidence interval does not contain 98.6.**\n",
    " \n",
    "When performing the bootstrap hypothesis test, we tested took the percentage of the difference out of 10000 samples, that were equal or ower thant the difference between the test mean (98.6) and the original mean of the dataset. No samples were equal or larger than the observed difference, shown by our p-value of 0.\n",
    "\n"
   ]
  },
  {
   "cell_type": "markdown",
   "metadata": {},
   "source": [
    "## Frequentist Hypothesis Test"
   ]
  },
  {
   "cell_type": "markdown",
   "metadata": {},
   "source": [
    "This will be a one-sample test as we are testing a sample against a single value. "
   ]
  },
  {
   "cell_type": "markdown",
   "metadata": {},
   "source": [
    "### Z-test"
   ]
  },
  {
   "cell_type": "markdown",
   "metadata": {},
   "source": [
    "**Null Hypothesis**: The true mean temperature of the human body is 98.6°F\n",
    "\n",
    "**Alternative Hypothesis**: The true mean temperature of the human body is not 98.6°F\n"
   ]
  },
  {
   "cell_type": "markdown",
   "metadata": {},
   "source": [
    "Since our dataset is independent, has a symmetrical distribution and the sample size is relatively large, we can use a z-statistic. "
   ]
  },
  {
   "cell_type": "markdown",
   "metadata": {},
   "source": [
    "To compute the z-statistic we use the formula,  $z = \\frac{\\bar{x}-\\mu}{\\frac{s}{\\sqrt{N-1}}}$, where $\\bar{x}$ is the sample mean, s the sample standard deviation, $\\mu$ the mean (under the null hypthesis) and N the sample size"
   ]
  },
  {
   "cell_type": "code",
   "execution_count": 251,
   "metadata": {},
   "outputs": [
    {
     "name": "stdout",
     "output_type": "stream",
     "text": [
      "The z-statistic is:  -5.454823292364208\n"
     ]
    }
   ],
   "source": [
    "z = (np.mean(df['temperature'] - 98.6) / (np.std(df['temperature']/np.sqrt(129))))\n",
    "print('The z-statistic is: ', z)"
   ]
  },
  {
   "cell_type": "markdown",
   "metadata": {},
   "source": [
    "To calculate a p-statistic from this, we will use the stat.norm.cdf function to calculate the percentage of area under the PDF. We are interested in the probability of getting below -5.45 and greater than 5.45, therefore we multiply the calculation by 2."
   ]
  },
  {
   "cell_type": "code",
   "execution_count": 252,
   "metadata": {},
   "outputs": [
    {
     "name": "stdout",
     "output_type": "stream",
     "text": [
      "The p-value is:  4.902157014109823e-08\n"
     ]
    }
   ],
   "source": [
    "p = stats.norm.cdf(z) * 2 #two tails\n",
    "print('The p-value is: ', p)"
   ]
  },
  {
   "cell_type": "markdown",
   "metadata": {},
   "source": [
    "**The p-value is .00000004, an extremely small value. This means that it is highly unlikely the mean we calculated has occured by chance if the null hypotheis is true. We can confidently reject the null hypothesis.**"
   ]
  },
  {
   "cell_type": "markdown",
   "metadata": {},
   "source": [
    "### T-test"
   ]
  },
  {
   "cell_type": "code",
   "execution_count": 253,
   "metadata": {},
   "outputs": [
    {
     "name": "stdout",
     "output_type": "stream",
     "text": [
      "The p-value for t-test is:  2.410632041559567e-07\n"
     ]
    }
   ],
   "source": [
    "p_t = stats.t.cdf(z,df=129) * 2\n",
    "print('The p-value for t-test is: ', p_t)"
   ]
  },
  {
   "cell_type": "markdown",
   "metadata": {},
   "source": [
    "**The p-value from the t-test is .00000002, also extremely small. We can reject thie null hypothesis as well.** "
   ]
  },
  {
   "cell_type": "markdown",
   "metadata": {},
   "source": [
    "The t-value larger than the z-value, indicating that the t-distribution is wider than the normal distribution."
   ]
  },
  {
   "cell_type": "code",
   "execution_count": 254,
   "metadata": {},
   "outputs": [
    {
     "data": {
      "image/png": "[encoded data removed]",
      "text/plain": [
       "<Figure size 864x432 with 1 Axes>"
      ]
     },
     "metadata": {
      "needs_background": "light"
     },
     "output_type": "display_data"
    }
   ],
   "source": [
    "fig, axes = plt.subplots(nrows=1, ncols=1, figsize=(12,6))\n",
    "\n",
    "x_temp, y_temp = ecdf(df.temperature)\n",
    "x_shift, y_shift = ecdf(temp_shift)\n",
    "\n",
    "#generate plots\n",
    "plt.plot(x_temp,y_temp, marker = '.', linestyle='none',color = 'blue')\n",
    "plt.plot(x_shift,y_shift,marker= '.', linestyle='none', color = 'red')\n",
    "\n",
    "#plot the means \n",
    "plt.axvline(x=np.mean(df.temperature),color = 'blue',linestyle='--',label = 'Dataset Mean: 98.2')\n",
    "temp_shift_mean = np.mean(temp_shift)\n",
    "plt.axvline(x=temp_shift_mean, color = 'red',linestyle='--',label='test mean: 98.6')\n",
    "plt.plot(98.6,0.46,'ko',markersize=10.0,mfc='none')\n",
    "plt.plot(np.mean(df.temperature),0.46,'ko',markersize=10.0,mfc='none')\n",
    "plt.plot(98.6,0.46,'wo',markersize=8.0)\n",
    "plt.plot(np.mean(df.temperature),0.46,'wo',markersize=8.0)\n",
    "\n",
    "\n",
    "# Label the axes\n",
    "_ = plt.xlabel('Body Temperatures')\n",
    "_ = plt.ylabel('ECDF')\n",
    "\n",
    "# Display the plot\n",
    "plt.legend(loc='upper left')\n",
    "plt.show()\n",
    "\n"
   ]
  },
  {
   "cell_type": "markdown",
   "metadata": {},
   "source": [
    "# Q4: Draw a small sample of size 10 from the data and repeat both frequentist tests. "
   ]
  },
  {
   "cell_type": "code",
   "execution_count": 274,
   "metadata": {},
   "outputs": [],
   "source": [
    "np.random.seed(50)"
   ]
  },
  {
   "cell_type": "markdown",
   "metadata": {},
   "source": [
    "Which one is the correct one to use?\n",
    "    <li>since the samples are less than 30, we should use the t-statistic test. \n",
    "\n"
   ]
  },
  {
   "cell_type": "code",
   "execution_count": 275,
   "metadata": {},
   "outputs": [
    {
     "data": {
      "text/plain": [
       "array([ 97.9,  98.6, 100.8,  98.2,  97.9,  98.2,  97.9,  98.3,  97.6,\n",
       "        98.1])"
      ]
     },
     "execution_count": 275,
     "metadata": {},
     "output_type": "execute_result"
    }
   ],
   "source": [
    "samples_10 = np.random.choice(df.temperature,10,replace=False)\n",
    "samples_10"
   ]
  },
  {
   "cell_type": "code",
   "execution_count": 281,
   "metadata": {},
   "outputs": [
    {
     "name": "stdout",
     "output_type": "stream",
     "text": [
      "The p-value for z-test is  0.000914017064650932\n",
      "The p-value for t-test is:  0.009001236353986539\n"
     ]
    }
   ],
   "source": [
    "samples_10_mean = np.mean(samples_10)\n",
    "samples_10_std = np.std(samples_10)\n",
    "\n",
    "sem = samples_10_std/np.sqrt(129)\n",
    "\n",
    "test_stat_10 = (samples_10_mean - 98.6)/ sem\n",
    "\n",
    "p_t_sample_10 = stats.t.cdf(t_score_10,df=9) * 2\n",
    "p_z_sample_10 = stats.norm.cdf(z_score_10) * 2\n",
    "\n",
    "print('The p-value for z-test is ', p_z_sample_10)\n",
    "print('The p-value for t-test is: ', p_t_sample_10)\n"
   ]
  },
  {
   "cell_type": "code",
   "execution_count": 279,
   "metadata": {},
   "outputs": [
    {
     "name": "stdout",
     "output_type": "stream",
     "text": [
      "The p-value for z-test is  0.000914017064650932\n",
      "The p-value for t-test is:  0.009001236353986539\n"
     ]
    }
   ],
   "source": [
    "p_t_sample_10 = stats.t.cdf(t_score_10,df=9) * 2\n",
    "p_z_sample_10 = stats.norm.cdf(z_score_10) * 2\n",
    "\n",
    "print('The p-value for z-test is ', p_z_sample_10)\n",
    "print('The p-value for t-test is: ', p_t_sample_10)\n"
   ]
  },
  {
   "cell_type": "markdown",
   "metadata": {},
   "source": [
    "What do you notice? What does this tell you about the difference in application of the  t and  z  statistic?\n",
    "\n",
    "<li> The p-value from the t-test is much larger than the p-value from the z-test. We can see it is approaching a value where it can become non-significant to reject the null hypothesis. The t-test is designed for small sample size where the more extreme values happen by random chance. This just reflects the lack of uncertainty given by our small sample size. "
   ]
  },
  {
   "cell_type": "markdown",
   "metadata": {},
   "source": [
    "# Q5: At what temperature should we consider someone's temperature to be \"abnormal\"?\n",
    "   <ul>\n",
    "    <li> As in the previous example, try calculating everything using the boostrap approach, as well as the frequentist approach.\n",
    "    <li> Start by computing the margin of error and confidence interval. When calculating the confidence interval, keep in mind that you should use the appropriate formula for one draw, and not N draws.\n",
    "    </ul>"
   ]
  },
  {
   "cell_type": "code",
   "execution_count": 300,
   "metadata": {},
   "outputs": [
    {
     "data": {
      "image/png": "[encoded data removed]",
      "text/plain": [
       "<Figure size 432x288 with 1 Axes>"
      ]
     },
     "metadata": {
      "needs_background": "light"
     },
     "output_type": "display_data"
    }
   ],
   "source": [
    "for _ in range(50):\n",
    "    #generate bootstrap sample: bs_sample\n",
    "    bs_sample = np.random.choice(df.temperature.values, size= len(df.temperature.values))\n",
    "    \n",
    "    #compute and plot ECDF from bootstrap sample\n",
    "    x,y = ecdf(bs_sample)\n",
    "    plt.plot(x,y, marker = '.',linestyle='none',color = 'green',alpha=0.5)\n",
    "    \n",
    "    #compute and plot ECDF of original data\n",
    "    \n",
    "    x,y = ecdf(df.temperature)\n",
    "    plt.plot(x,y,marker='.')\n",
    "    \n",
    "    plt.margins(0.02)\n",
    "    plt.xlabel('Body Temperature (°F)')\n",
    "    plt.ylabel('ECDF')\n",
    "\n",
    "    \n",
    "    "
   ]
  },
  {
   "cell_type": "markdown",
   "metadata": {},
   "source": [
    "Lets compute the Confidence Interval of 99%. Anything outside of our confidence interval would be abnormal. "
   ]
  },
  {
   "cell_type": "markdown",
   "metadata": {},
   "source": [
    "#### Frequentist approach\n",
    "\n",
    "The margin of error can be calculated in two ways:\n",
    "<li> Margin of error = Critical value * Standard deviation\n",
    "<li> Margin of error = Critical value * Standard error of the statistic\n",
    "   "
   ]
  },
  {
   "cell_type": "markdown",
   "metadata": {},
   "source": [
    "Since we already know the distribution of our temperatures is approximately normal, the margin of error for our confidence interval is (plus or minus) the standard deviation multiplied by the z-statistic. "
   ]
  },
  {
   "cell_type": "code",
   "execution_count": 316,
   "metadata": {},
   "outputs": [],
   "source": [
    "sample_mean = np.mean(df['temperature'])\n",
    "sample_std = np.std(df['temperature'])"
   ]
  },
  {
   "cell_type": "markdown",
   "metadata": {},
   "source": [
    "The critical value of a 99% Confidence Interval is 2.575 (derived from a z-table)"
   ]
  },
  {
   "cell_type": "code",
   "execution_count": 285,
   "metadata": {},
   "outputs": [
    {
     "data": {
      "text/plain": [
       "(96.3685594885503, 100.12990204991125)"
      ]
     },
     "execution_count": 285,
     "metadata": {},
     "output_type": "execute_result"
    }
   ],
   "source": [
    "sample_mean - 2.575 * sample_std, sample_mean + 2.575 * sample_std"
   ]
  },
  {
   "cell_type": "code",
   "execution_count": 294,
   "metadata": {},
   "outputs": [
    {
     "name": "stdout",
     "output_type": "stream",
     "text": [
      "(96.3679538002523, 100.13050773820926)\n",
      "Our Confidence Interval is: [96.3685594885503,100.12990204991125]\n"
     ]
    }
   ],
   "source": [
    "conf_int = stats.norm.interval(0.99, loc = sample_mean, scale=sample_std)\n",
    "print(conf_int)\n",
    "print('Our Confidence Interval is: ['+ str(sample_mean - 2.575 * sample_std)+','+ str(sample_mean + 2.575 * sample_std)+']')\n",
    "      \n",
    "      \n"
   ]
  },
  {
   "cell_type": "code",
   "execution_count": 332,
   "metadata": {},
   "outputs": [
    {
     "data": {
      "image/png": "[encoded data removed]",
      "text/plain": [
       "<Figure size 432x288 with 1 Axes>"
      ]
     },
     "metadata": {
      "needs_background": "light"
     },
     "output_type": "display_data"
    }
   ],
   "source": [
    "\n",
    "ax = df.temperature.plot.kde()\n",
    "stderr = stats.sem(df.temperature)\n",
    "ax.vlines(x=np.mean(df['temperature']),ymin= 0,ymax=.6,color='red',label='mean')\n",
    "ax.vlines(x=sample_mean - 2.575 * sample_std,ymin=0,ymax=.6,color='green',label = '99% CI')\n",
    "ax.vlines(x=sample_mean + 2.575 * sample_std,ymin=0,ymax=.6,color='green')\n",
    "ax.set_ylim([0,.6])\n",
    "ax.legend()\n",
    "plt.show()"
   ]
  },
  {
   "cell_type": "markdown",
   "metadata": {},
   "source": [
    "Based off this interval, an abnormal temperature would be one that is below 96.4 or above 100.1 degrees Fahrenheit."
   ]
  },
  {
   "cell_type": "markdown",
   "metadata": {},
   "source": [
    "#### Boostrap approach"
   ]
  },
  {
   "cell_type": "code",
   "execution_count": 306,
   "metadata": {},
   "outputs": [
    {
     "name": "stdout",
     "output_type": "stream",
     "text": [
      "The 99% CI:  [98.08691923 98.41616154]\n"
     ]
    }
   ],
   "source": [
    "bs_replicates_abn = draw_bs_reps(df['temperature'],np.mean,10000)\n",
    "bs_mean_abn = np.mean(bs_replicates)\n",
    "\n",
    "conf_int_99_abn = np.percentile(bs_replicates_abn, [0.5,99.5])\n",
    "print('The 99% CI: ', conf_int_99_abn)"
   ]
  },
  {
   "cell_type": "code",
   "execution_count": 339,
   "metadata": {},
   "outputs": [
    {
     "name": "stderr",
     "output_type": "stream",
     "text": [
      "/Users/matthewwong/anaconda3/lib/python3.7/site-packages/scipy/stats/stats.py:1713: FutureWarning: Using a non-tuple sequence for multidimensional indexing is deprecated; use `arr[tuple(seq)]` instead of `arr[seq]`. In the future this will be interpreted as an array index, `arr[np.array(seq)]`, which will result either in an error or a different result.\n",
      "  return np.add.reduce(sorted[indexer] * weights, axis=axis) / sumval\n"
     ]
    },
    {
     "data": {
      "image/png": "[encoded data removed]",
      "text/plain": [
       "<Figure size 432x288 with 1 Axes>"
      ]
     },
     "metadata": {
      "needs_background": "light"
     },
     "output_type": "display_data"
    }
   ],
   "source": [
    "\n",
    "ax = sns.kdeplot(bs_replicates_abn)\n",
    "stderr = stats.sem(bs_replicates_abn)\n",
    "ax.vlines(x=np.mean(bs_replicates_abn),ymin= 0,ymax=7,color='red',label='mean')\n",
    "ax.vlines(x=98.08691923,ymin=0,ymax=7,color='green',label = '99% CI')\n",
    "ax.vlines(x=98.41616154,ymin=0,ymax=7,color='green')\n",
    "ax.set_ylim([0,7])\n",
    "ax.legend()\n",
    "plt.show()"
   ]
  },
  {
   "cell_type": "markdown",
   "metadata": {},
   "source": [
    "# Q6: Is there a significant difference between males and females in normal temperature?"
   ]
  },
  {
   "cell_type": "code",
   "execution_count": 346,
   "metadata": {},
   "outputs": [],
   "source": [
    "df_male = df[df['gender'] == 'M']\n",
    "df_female = df[df['gender']== 'F']"
   ]
  },
  {
   "cell_type": "markdown",
   "metadata": {},
   "source": [
    "Our first step should always perform Exploratory Data Analysis"
   ]
  },
  {
   "cell_type": "code",
   "execution_count": 363,
   "metadata": {},
   "outputs": [
    {
     "data": {
      "image/png": "[encoded data removed]",
      "text/plain": [
       "<Figure size 432x288 with 1 Axes>"
      ]
     },
     "metadata": {
      "needs_background": "light"
     },
     "output_type": "display_data"
    }
   ],
   "source": [
    "_ = sns.swarmplot('gender','temperature',data=df)\n",
    "plt.show()"
   ]
  },
  {
   "cell_type": "markdown",
   "metadata": {},
   "source": [
    "Females look to have 2 to 3slighly higher body temperature, it is too difficult to tell if they have difference, so we should proceed with the hypothesis test."
   ]
  },
  {
   "cell_type": "code",
   "execution_count": 355,
   "metadata": {},
   "outputs": [
    {
     "data": {
      "image/png": "[encoded data removed]",
      "text/plain": [
       "<Figure size 432x288 with 1 Axes>"
      ]
     },
     "metadata": {
      "needs_background": "light"
     },
     "output_type": "display_data"
    }
   ],
   "source": [
    "male_x ,male_y = ecdf(df_male['temperature'])\n",
    "female_x, female_y = ecdf(df_female['temperature'])\n",
    "\n",
    "_= plt.plot(male_x,male_y, marker='.',linestyle='none',color = 'blue',label='male',alpha=0.5)\n",
    "_= plt.plot(female_x,female_y,marker='.',linestyle='none',color = 'red',label='female',alpha=0.5)\n",
    "_= plt.xlabel('temperature (°F)')\n",
    "_= plt.ylabel('ECDF')\n",
    "_= plt.legend()\n",
    "plt.show()\n"
   ]
  },
  {
   "cell_type": "markdown",
   "metadata": {},
   "source": [
    "From their ECDF graphs male and females are indeed different. With females having slightly higher body temperatures than males. "
   ]
  },
  {
   "cell_type": "markdown",
   "metadata": {},
   "source": [
    "Both the temperatrues are pretty close but they are indeed different. We should do a hypothesis test to find if there is a differene or if the difference happened by random chance."
   ]
  },
  {
   "cell_type": "markdown",
   "metadata": {},
   "source": [
    "## Bootstrap Hypothesis Test"
   ]
  },
  {
   "cell_type": "markdown",
   "metadata": {},
   "source": [
    "**Pipeline for hypothesis testing**\n",
    "<li> Clearly state the null hypothesis\n",
    "<li> Define your test statistic\n",
    "<li> Generate many sets of simulated data assuming the null hypothesis is true\n",
    "<li> Compute the test statistic for each simulated data set\n",
    "<li> The p-value is the fraction of your simulated data sets for which the test statistic is at least as extreme as for the real data"
   ]
  },
  {
   "cell_type": "markdown",
   "metadata": {},
   "source": [
    "**Null Hypothesis**: There is no difference between male and female temperatures.\n",
    "\n",
    "**Alternative Hypothesis**: There is a difference between male and female temperatures"
   ]
  },
  {
   "cell_type": "markdown",
   "metadata": {},
   "source": [
    "Since we want to test the difference between male and female temperatures, the difference between mean temperatures should be zero. Therefore our **test statistic will be the difference in means**. "
   ]
  },
  {
   "cell_type": "markdown",
   "metadata": {},
   "source": [
    "Permutation sampling is a great way to simulate the hypothesis that two variables have identical probability distributions. This is often a hypothesis you want to test. "
   ]
  },
  {
   "cell_type": "code",
   "execution_count": 361,
   "metadata": {},
   "outputs": [],
   "source": [
    "#permutation sampling functions\n",
    "def permutation_sample(data1,data2):\n",
    "    '''generate a permutation sample from two data sets.'''\n",
    "    \n",
    "    #concatenate the data sets\n",
    "    data = np.concatenate((data1,data2))\n",
    "    \n",
    "    #permute the concatentated array\n",
    "    permuted_data = np.random.permutation(data)\n",
    "    \n",
    "    #split the permuted array into two\n",
    "    perm_sample_1 = permuted_data[:len(data1)]\n",
    "    perm_sample_2 = permuted_data[len(data1):]\n",
    "    \n",
    "    return perm_sample_1, perm_sample_2\n",
    "\n",
    "\n",
    "\n",
    "def draw_perm_reps(data_1, data_2, func, size=1):\n",
    "    ''' generate multiple permutation replicates'''\n",
    "    #initialize array of replicates: perm_replicates\n",
    "    perm_replicates = np.empty(size)\n",
    "    \n",
    "    for i in range(size):\n",
    "        #generate permutation sample\n",
    "        perm_sample_1, perm_sample_2 = permutation_sample(data_1,data_2)\n",
    "        \n",
    "        #compute the test statistic \n",
    "        perm_replicates[i] = func(perm_sample_1,perm_sample_2)\n",
    "        \n",
    "    return perm_replicates"
   ]
  },
  {
   "cell_type": "code",
   "execution_count": 374,
   "metadata": {},
   "outputs": [
    {
     "name": "stdout",
     "output_type": "stream",
     "text": [
      "The mean temperature for males:  98.1046153846154\n",
      "The mean temperature for females:  98.39384615384613\n",
      "The mean temperature for all:  98.24923076923078\n",
      "The difference in gender mean is:  -0.289230769230727\n"
     ]
    }
   ],
   "source": [
    "temp_mean_m =np.mean(df_male['temperature'])\n",
    "temp_mean_f = np.mean(df_female['temperature'])\n",
    "all_mean = np.mean(df['temperature'])\n",
    "print('The mean temperature for males: ', temp_mean_m)\n",
    "print('The mean temperature for females: ', temp_mean_f)\n",
    "print('The mean temperature for all: ', all_mean)\n",
    "\n",
    "diff_g_mean = np.mean(df_male['temperature']) - np.mean(df_female['temperature'])\n",
    "print('The difference in gender mean is: ', diff_g_mean)\n",
    "\n",
    "\n"
   ]
  },
  {
   "cell_type": "code",
   "execution_count": 375,
   "metadata": {},
   "outputs": [],
   "source": [
    "male_temp_shifted = (df_male['temperature'] - temp_mean_m) + all_mean\n",
    "female_temp_shifted = (df_female['temperature']-temp_mean_f) + all_mean"
   ]
  },
  {
   "cell_type": "markdown",
   "metadata": {},
   "source": [
    "It is possible the temperatures of both genders are the same and the observations we got was by chance. What is the probability of getting at least a -0.289 difference in mean temperatures under the hypothesis that the distributions of temperatures of the two genders are identical. "
   ]
  },
  {
   "cell_type": "code",
   "execution_count": 376,
   "metadata": {},
   "outputs": [],
   "source": [
    "bs_replicates_male = draw_bs_reps(male_temp_shifted, np.mean, 10000)\n",
    "bs_replicates_female = draw_bs_reps(female_temp_shifted,np.mean,10000)"
   ]
  },
  {
   "cell_type": "code",
   "execution_count": 378,
   "metadata": {},
   "outputs": [
    {
     "name": "stdout",
     "output_type": "stream",
     "text": [
      "-0.289230769230727\n"
     ]
    }
   ],
   "source": [
    "bs_replicates_diff = bs_replicates_male - bs_replicates_female\n",
    "empirical_diff_mean = np.mean(temp_mean_m) - np.mean(temp_mean_f)\n",
    "print(empirical_diff_mean)"
   ]
  },
  {
   "cell_type": "markdown",
   "metadata": {},
   "source": [
    "From our data we have a difference mean of -0.289 between the sample means of the genders. From our exploratory data analysis we know females have a slightly higher temperature than males. (Alternative Hypothesis) \n",
    "\n",
    "Meaning we should calculate the bootstrap probability of getting a value for the female mean at least 2.89 higher than male mean. But we are only testing if males and female temperatures are different. "
   ]
  },
  {
   "cell_type": "code",
   "execution_count": 380,
   "metadata": {},
   "outputs": [
    {
     "data": {
      "image/png": "[encoded data removed]",
      "text/plain": [
       "<Figure size 432x288 with 1 Axes>"
      ]
     },
     "metadata": {
      "needs_background": "light"
     },
     "output_type": "display_data"
    }
   ],
   "source": [
    "_ = plt.hist(bs_replicates_diff,bins=20)\n",
    "_ = plt.xlabel('Difference between sample means if population means are equal ')\n",
    "_ = plt.ylabel('Count')\n",
    "_ = plt.axvline(x=empirical_diff_mean,color = 'red')\n",
    "_ = plt.axvline(x=-empirical_diff_mean, color = 'red')"
   ]
  },
  {
   "cell_type": "code",
   "execution_count": 402,
   "metadata": {},
   "outputs": [
    {
     "name": "stdout",
     "output_type": "stream",
     "text": [
      "The p-value is  0.0209\n"
     ]
    }
   ],
   "source": [
    "p =  np.sum(np.abs(bs_replicates_diff) >= np.abs(empirical_diff_mean)) /len(bs_replicates_diff)\n",
    "\n",
    "print('The p-value is ', p)\n"
   ]
  },
  {
   "cell_type": "markdown",
   "metadata": {},
   "source": [
    "## Frequentist Hypothesis Test"
   ]
  },
  {
   "cell_type": "markdown",
   "metadata": {},
   "source": [
    "For our frequentist hypothesis test, we will use the same null hypothesis as our bootstrap test.\n",
    "\n",
    "**Null Hypothesis: There is no difference in mean temperature between male and female.**"
   ]
  },
  {
   "cell_type": "code",
   "execution_count": 412,
   "metadata": {},
   "outputs": [
    {
     "name": "stdout",
     "output_type": "stream",
     "text": [
      "sample size for our sampling distribution of male body temperature 65.\n",
      "sample size for our sampling distribution of female body temperature 65.\n"
     ]
    }
   ],
   "source": [
    "# check sample size to assume normality\n",
    "\n",
    "df_male_temp = df_male.temperature\n",
    "df_female_temp = df_female.temperature\n",
    "\n",
    "print('sample size for our sampling distribution of male body temperature '+ str(len(df_male_temp))+'.')\n",
    "print('sample size for our sampling distribution of female body temperature '+ str(len(df_female_temp))+'.')\n",
    "\n",
    "#both are large enough to apply the central limit theore.\n"
   ]
  },
  {
   "cell_type": "code",
   "execution_count": 419,
   "metadata": {},
   "outputs": [
    {
     "name": "stdout",
     "output_type": "stream",
     "text": [
      "The difference of the distributions has a mean of:  0.2892\n",
      "The difference of the distributions has a standard deviation of:  0.1256\n"
     ]
    }
   ],
   "source": [
    "#calculate the mean and standard deviation for each sampling distribution\n",
    "male_temp_mean = np.mean(df_male_temp)\n",
    "female_temp_mean = np.mean(df_female_temp)\n",
    "male_temp_std = np.std(df_male_temp)\n",
    "female_temp_std = np.std(df_female_temp)\n",
    "diff_mean = female_temp_mean - male_temp_mean\n",
    "diff_std = np.sqrt((male_temp_std**2/len(df_male_temp))+(female_temp_std**2/len(df_female_temp)))\n",
    "\n",
    "print('The difference of the distributions has a mean of: ', round(diff_mean,4))\n",
    "print('The difference of the distributions has a standard deviation of: ', round(diff_std,4))\n"
   ]
  },
  {
   "cell_type": "markdown",
   "metadata": {},
   "source": [
    "We can now calculate the likelihood of getting a value as extreme as our difference of means."
   ]
  },
  {
   "cell_type": "code",
   "execution_count": 422,
   "metadata": {},
   "outputs": [
    {
     "name": "stdout",
     "output_type": "stream",
     "text": [
      "The p-value is:  0.021266451830129318\n"
     ]
    }
   ],
   "source": [
    "p_diff_value = (1-stats.norm.cdf(diff_mean,scale=diff_std))*2\n",
    "print('The p-value is: ', p_diff_value)"
   ]
  },
  {
   "cell_type": "markdown",
   "metadata": {},
   "source": [
    "If we had a significance level of 0.5 (the standard for statistical testing) we can reject the null hypothesis that the mean temperature is the same between men and women. Indicating that it is statistically significant.  "
   ]
  },
  {
   "cell_type": "code",
   "execution_count": 425,
   "metadata": {},
   "outputs": [
    {
     "data": {
      "text/plain": [
       "Ttest_indResult(statistic=-2.2854345381656103, pvalue=0.02393188312239561)"
      ]
     },
     "execution_count": 425,
     "metadata": {},
     "output_type": "execute_result"
    }
   ],
   "source": [
    "#alternative way of testing using scipy\n",
    "import scipy.stats as sstats\n",
    "sstats.ttest_ind(df_male_temp,df_female_temp)"
   ]
  },
  {
   "cell_type": "markdown",
   "metadata": {},
   "source": [
    "# Conclusions\n",
    "\n",
    "The mean normal body temperature was held to be 37 ∘ C or 98.6 ∘ F for more than 120 years since it was first conceptualized and reported by Carl Wunderlich in a famous 1868 book. But, is this value statistically correct?\n",
    "\n",
    "We can not say for certain and absolute fact if the actual mean of normal body temperature is in fact 98.6 ° F. However, we can say based on the sample we analyzed, the mean of body temperature is not 98.6 ° F. The mean of body temperature is closer to 98.25 °F. \n",
    "\n",
    "Based off our boostrap 95% confidence interval of the temperature data the true mean of temperature is between 98.123 and  98.375 degrees Fahrenheit.\n",
    "\n",
    "Additionally, Male and female body temperatures are statistically different at a 5% significance level. With females having a slightly higher body temperature.\n"
   ]
  }
 ],
 "metadata": {
  "kernelspec": {
   "display_name": "Python 3",
   "language": "python",
   "name": "python3"
  },
  "language_info": {
   "codemirror_mode": {
    "name": "ipython",
    "version": 3
   },
   "file_extension": ".py",
   "mimetype": "text/x-python",
   "name": "python",
   "nbconvert_exporter": "python",
   "pygments_lexer": "ipython3",
   "version": "3.7.0"
  }
 },
 "nbformat": 4,
 "nbformat_minor": 1
}
